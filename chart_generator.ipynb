{
 "cells": [
  {
   "cell_type": "code",
   "execution_count": 28,
   "metadata": {},
   "outputs": [
    {
     "data": {
      "text/html": [
       "<div>\n",
       "<style scoped>\n",
       "    .dataframe tbody tr th:only-of-type {\n",
       "        vertical-align: middle;\n",
       "    }\n",
       "\n",
       "    .dataframe tbody tr th {\n",
       "        vertical-align: top;\n",
       "    }\n",
       "\n",
       "    .dataframe thead th {\n",
       "        text-align: right;\n",
       "    }\n",
       "</style>\n",
       "<table border=\"1\" class=\"dataframe\">\n",
       "  <thead>\n",
       "    <tr style=\"text-align: right;\">\n",
       "      <th></th>\n",
       "      <th>first_name</th>\n",
       "      <th>last_name</th>\n",
       "      <th>id</th>\n",
       "      <th>parentId</th>\n",
       "    </tr>\n",
       "  </thead>\n",
       "  <tbody>\n",
       "    <tr>\n",
       "      <th>0</th>\n",
       "      <td>Nathan</td>\n",
       "      <td>Coffield</td>\n",
       "      <td>Coffield-Nathan</td>\n",
       "      <td>Wilson-Katie</td>\n",
       "    </tr>\n",
       "    <tr>\n",
       "      <th>1</th>\n",
       "      <td>Pam</td>\n",
       "      <td>Goodwin</td>\n",
       "      <td>Goodwin-Pan</td>\n",
       "      <td>Wilson-Katie</td>\n",
       "    </tr>\n",
       "    <tr>\n",
       "      <th>2</th>\n",
       "      <td>Hannah</td>\n",
       "      <td>Muldoon-Davis</td>\n",
       "      <td>Muldoon-Davis-Hannah</td>\n",
       "      <td>Wilson-Katie</td>\n",
       "    </tr>\n",
       "    <tr>\n",
       "      <th>3</th>\n",
       "      <td>Blake</td>\n",
       "      <td>Nash</td>\n",
       "      <td>Nash-Blake</td>\n",
       "      <td>Wilson-Katie</td>\n",
       "    </tr>\n",
       "    <tr>\n",
       "      <th>4</th>\n",
       "      <td>Kourtney</td>\n",
       "      <td>Spaulding</td>\n",
       "      <td>Spaulding-Kourtney</td>\n",
       "      <td>Wilson-Katie</td>\n",
       "    </tr>\n",
       "    <tr>\n",
       "      <th>5</th>\n",
       "      <td>Katie</td>\n",
       "      <td>Wilson</td>\n",
       "      <td>Wilson-Katie</td>\n",
       "      <td>Armstrong</td>\n",
       "    </tr>\n",
       "    <tr>\n",
       "      <th>6</th>\n",
       "      <td>Vacant</td>\n",
       "      <td>NaN</td>\n",
       "      <td>Vacant-5</td>\n",
       "      <td>Wilson-Katie</td>\n",
       "    </tr>\n",
       "    <tr>\n",
       "      <th>7</th>\n",
       "      <td>Drew</td>\n",
       "      <td>Davis</td>\n",
       "      <td>Davis-Drew</td>\n",
       "      <td>Brownell-Jayne</td>\n",
       "    </tr>\n",
       "    <tr>\n",
       "      <th>8</th>\n",
       "      <td>April</td>\n",
       "      <td>Callis</td>\n",
       "      <td>Callis-April</td>\n",
       "      <td>Wood-Dasha</td>\n",
       "    </tr>\n",
       "    <tr>\n",
       "      <th>9</th>\n",
       "      <td>Tina</td>\n",
       "      <td>Coyne</td>\n",
       "      <td>Coyne-Tina</td>\n",
       "      <td>Wood-Dasha</td>\n",
       "    </tr>\n",
       "  </tbody>\n",
       "</table>\n",
       "</div>"
      ],
      "text/plain": [
       "  first_name      last_name                    id        parentId\n",
       "0     Nathan       Coffield       Coffield-Nathan    Wilson-Katie\n",
       "1        Pam        Goodwin           Goodwin-Pan    Wilson-Katie\n",
       "2     Hannah  Muldoon-Davis  Muldoon-Davis-Hannah    Wilson-Katie\n",
       "3      Blake           Nash            Nash-Blake    Wilson-Katie\n",
       "4   Kourtney     Spaulding     Spaulding-Kourtney    Wilson-Katie\n",
       "5      Katie         Wilson          Wilson-Katie       Armstrong\n",
       "6     Vacant            NaN              Vacant-5    Wilson-Katie\n",
       "7       Drew          Davis            Davis-Drew  Brownell-Jayne\n",
       "8      April         Callis          Callis-April      Wood-Dasha\n",
       "9       Tina          Coyne            Coyne-Tina      Wood-Dasha"
      ]
     },
     "execution_count": 28,
     "metadata": {},
     "output_type": "execute_result"
    }
   ],
   "source": [
    "# https://towardsdatascience.com/turn-your-excel-workbook-into-a-sqlite-database-bc6d4fd206aa\n",
    "import sqlite3, pandas as pd\n",
    "org_employees = pd.read_csv(\n",
    "    'org.csv',\n",
    "    usecols = ['first_name','last_name','id','parentId'], \n",
    "    header=0)\n",
    "\n",
    "org_employees.head(10)"
   ]
  },
  {
   "cell_type": "code",
   "execution_count": 18,
   "metadata": {},
   "outputs": [
    {
     "data": {
      "text/plain": [
       "Index(['first_name', 'last_name', 'id', 'parentId'], dtype='object')"
      ]
     },
     "execution_count": 18,
     "metadata": {},
     "output_type": "execute_result"
    }
   ],
   "source": [
    "db_conn=sqlite3.connect('org.db')\n",
    "c = db_conn.cursor()\n",
    "org_employees.columns"
   ]
  },
  {
   "cell_type": "code",
   "execution_count": 19,
   "metadata": {},
   "outputs": [
    {
     "data": {
      "text/plain": [
       "<sqlite3.Cursor at 0x12e619d40>"
      ]
     },
     "execution_count": 19,
     "metadata": {},
     "output_type": "execute_result"
    }
   ],
   "source": [
    "c.execute(\n",
    "    \"\"\"\n",
    "    CREATE TABLE org_employees (\n",
    "        first_name TEXT,\n",
    "        last_name TEXT,\n",
    "        id TEXT,\n",
    "        parentId TEXT,\n",
    "        PRIMARY KEY (id)\n",
    "    );\n",
    "    \"\"\"\n",
    ")"
   ]
  },
  {
   "cell_type": "code",
   "execution_count": 20,
   "metadata": {},
   "outputs": [
    {
     "data": {
      "text/plain": [
       "193"
      ]
     },
     "execution_count": 20,
     "metadata": {},
     "output_type": "execute_result"
    }
   ],
   "source": [
    "org_employees.to_sql('org_employees', db_conn, if_exists='append', index=False)"
   ]
  },
  {
   "cell_type": "code",
   "execution_count": 21,
   "metadata": {},
   "outputs": [
    {
     "data": {
      "text/html": [
       "<div>\n",
       "<style scoped>\n",
       "    .dataframe tbody tr th:only-of-type {\n",
       "        vertical-align: middle;\n",
       "    }\n",
       "\n",
       "    .dataframe tbody tr th {\n",
       "        vertical-align: top;\n",
       "    }\n",
       "\n",
       "    .dataframe thead th {\n",
       "        text-align: right;\n",
       "    }\n",
       "</style>\n",
       "<table border=\"1\" class=\"dataframe\">\n",
       "  <thead>\n",
       "    <tr style=\"text-align: right;\">\n",
       "      <th></th>\n",
       "      <th>first_name</th>\n",
       "      <th>last_name</th>\n",
       "      <th>id</th>\n",
       "      <th>parentId</th>\n",
       "    </tr>\n",
       "  </thead>\n",
       "  <tbody>\n",
       "    <tr>\n",
       "      <th>0</th>\n",
       "      <td>Nathan</td>\n",
       "      <td>Coffield</td>\n",
       "      <td>Coffield-Nathan</td>\n",
       "      <td>Wilson-Katie</td>\n",
       "    </tr>\n",
       "    <tr>\n",
       "      <th>1</th>\n",
       "      <td>Pam</td>\n",
       "      <td>Goodwin</td>\n",
       "      <td>Goodwin-Pan</td>\n",
       "      <td>Wilson-Katie</td>\n",
       "    </tr>\n",
       "    <tr>\n",
       "      <th>2</th>\n",
       "      <td>Hannah</td>\n",
       "      <td>Muldoon-Davis</td>\n",
       "      <td>Muldoon-Davis-Hannah</td>\n",
       "      <td>Wilson-Katie</td>\n",
       "    </tr>\n",
       "    <tr>\n",
       "      <th>3</th>\n",
       "      <td>Blake</td>\n",
       "      <td>Nash</td>\n",
       "      <td>Nash-Blake</td>\n",
       "      <td>Wilson-Katie</td>\n",
       "    </tr>\n",
       "    <tr>\n",
       "      <th>4</th>\n",
       "      <td>Kourtney</td>\n",
       "      <td>Spaulding</td>\n",
       "      <td>Spaulding-Kourtney</td>\n",
       "      <td>Wilson-Katie</td>\n",
       "    </tr>\n",
       "    <tr>\n",
       "      <th>5</th>\n",
       "      <td>Vacant</td>\n",
       "      <td>None</td>\n",
       "      <td>Vacant-5</td>\n",
       "      <td>Wilson-Katie</td>\n",
       "    </tr>\n",
       "    <tr>\n",
       "      <th>6</th>\n",
       "      <td>Katie</td>\n",
       "      <td>Wilson</td>\n",
       "      <td>Wilson-Katie</td>\n",
       "      <td>Armstrong</td>\n",
       "    </tr>\n",
       "    <tr>\n",
       "      <th>7</th>\n",
       "      <td>Drew</td>\n",
       "      <td>Davis</td>\n",
       "      <td>Davis-Drew</td>\n",
       "      <td>Brownell-Jayne</td>\n",
       "    </tr>\n",
       "    <tr>\n",
       "      <th>8</th>\n",
       "      <td>April</td>\n",
       "      <td>Callis</td>\n",
       "      <td>Callis-April</td>\n",
       "      <td>Wood-Dasha</td>\n",
       "    </tr>\n",
       "    <tr>\n",
       "      <th>9</th>\n",
       "      <td>Tina</td>\n",
       "      <td>Coyne</td>\n",
       "      <td>Coyne-Tina</td>\n",
       "      <td>Wood-Dasha</td>\n",
       "    </tr>\n",
       "  </tbody>\n",
       "</table>\n",
       "</div>"
      ],
      "text/plain": [
       "  first_name      last_name                    id        parentId\n",
       "0     Nathan       Coffield       Coffield-Nathan    Wilson-Katie\n",
       "1        Pam        Goodwin           Goodwin-Pan    Wilson-Katie\n",
       "2     Hannah  Muldoon-Davis  Muldoon-Davis-Hannah    Wilson-Katie\n",
       "3      Blake           Nash            Nash-Blake    Wilson-Katie\n",
       "4   Kourtney     Spaulding     Spaulding-Kourtney    Wilson-Katie\n",
       "5     Vacant           None              Vacant-5    Wilson-Katie\n",
       "6      Katie         Wilson          Wilson-Katie       Armstrong\n",
       "7       Drew          Davis            Davis-Drew  Brownell-Jayne\n",
       "8      April         Callis          Callis-April      Wood-Dasha\n",
       "9       Tina          Coyne            Coyne-Tina      Wood-Dasha"
      ]
     },
     "execution_count": 21,
     "metadata": {},
     "output_type": "execute_result"
    }
   ],
   "source": [
    "qry=\"\"\"\n",
    "SELECT first_name, last_name, id, parentId\n",
    "FROM org_employees\n",
    "\"\"\"\n",
    "emps=pd.read_sql(qry, db_conn)\n",
    "emps.head(10)"
   ]
  },
  {
   "cell_type": "code",
   "execution_count": 25,
   "metadata": {},
   "outputs": [
    {
     "data": {
      "text/html": [
       "<div>\n",
       "<style scoped>\n",
       "    .dataframe tbody tr th:only-of-type {\n",
       "        vertical-align: middle;\n",
       "    }\n",
       "\n",
       "    .dataframe tbody tr th {\n",
       "        vertical-align: top;\n",
       "    }\n",
       "\n",
       "    .dataframe thead th {\n",
       "        text-align: right;\n",
       "    }\n",
       "</style>\n",
       "<table border=\"1\" class=\"dataframe\">\n",
       "  <thead>\n",
       "    <tr style=\"text-align: right;\">\n",
       "      <th></th>\n",
       "      <th>from</th>\n",
       "      <th>to</th>\n",
       "    </tr>\n",
       "  </thead>\n",
       "  <tbody>\n",
       "    <tr>\n",
       "      <th>0</th>\n",
       "      <td>Nathan</td>\n",
       "      <td>Katie</td>\n",
       "    </tr>\n",
       "    <tr>\n",
       "      <th>1</th>\n",
       "      <td>Pam</td>\n",
       "      <td>Katie</td>\n",
       "    </tr>\n",
       "    <tr>\n",
       "      <th>2</th>\n",
       "      <td>Hannah</td>\n",
       "      <td>Katie</td>\n",
       "    </tr>\n",
       "    <tr>\n",
       "      <th>3</th>\n",
       "      <td>Blake</td>\n",
       "      <td>Katie</td>\n",
       "    </tr>\n",
       "    <tr>\n",
       "      <th>4</th>\n",
       "      <td>Kourtney</td>\n",
       "      <td>Katie</td>\n",
       "    </tr>\n",
       "    <tr>\n",
       "      <th>...</th>\n",
       "      <td>...</td>\n",
       "      <td>...</td>\n",
       "    </tr>\n",
       "    <tr>\n",
       "      <th>95</th>\n",
       "      <td>Jacqlyn</td>\n",
       "      <td>Christina</td>\n",
       "    </tr>\n",
       "    <tr>\n",
       "      <th>96</th>\n",
       "      <td>Jacinta</td>\n",
       "      <td>Christina</td>\n",
       "    </tr>\n",
       "    <tr>\n",
       "      <th>97</th>\n",
       "      <td>Natalie</td>\n",
       "      <td>Christina</td>\n",
       "    </tr>\n",
       "    <tr>\n",
       "      <th>98</th>\n",
       "      <td>Vacant</td>\n",
       "      <td>Christina</td>\n",
       "    </tr>\n",
       "    <tr>\n",
       "      <th>99</th>\n",
       "      <td>Vacant</td>\n",
       "      <td>Christina</td>\n",
       "    </tr>\n",
       "  </tbody>\n",
       "</table>\n",
       "<p>100 rows × 2 columns</p>\n",
       "</div>"
      ],
      "text/plain": [
       "        from         to\n",
       "0     Nathan      Katie\n",
       "1        Pam      Katie\n",
       "2     Hannah      Katie\n",
       "3      Blake      Katie\n",
       "4   Kourtney      Katie\n",
       "..       ...        ...\n",
       "95   Jacqlyn  Christina\n",
       "96   Jacinta  Christina\n",
       "97   Natalie  Christina\n",
       "98    Vacant  Christina\n",
       "99    Vacant  Christina\n",
       "\n",
       "[100 rows x 2 columns]"
      ]
     },
     "execution_count": 25,
     "metadata": {},
     "output_type": "execute_result"
    }
   ],
   "source": [
    "edgelist=pd.merge(emps, emps, left_on='id', right_on='parentId')\n",
    "edgelist.rename(\n",
    "  columns={'first_name_x' :'to', 'first_name_y' :'from'},\n",
    "  inplace=True\n",
    ")\n",
    "edgelist=edgelist[['from', 'to']]\n",
    "edgelist.head(100)"
   ]
  },
  {
   "cell_type": "code",
   "execution_count": 26,
   "metadata": {},
   "outputs": [],
   "source": [
    "# https://towardsdatascience.com/create-organization-diagrams-in-a-few-lines-of-code-the-5-minute-learn-dcca81dac3a2\n",
    "import networkx as nx\n",
    "orgchart=nx.from_pandas_edgelist(edgelist, source='to', target='from', create_using=nx.DiGraph)"
   ]
  },
  {
   "cell_type": "code",
   "execution_count": 27,
   "metadata": {},
   "outputs": [
    {
     "name": "stderr",
     "output_type": "stream",
     "text": [
      "/var/folders/92/xm_ms3bx5bd113b9cmk5zxq40000gn/T/ipykernel_52017/397223888.py:1: DeprecationWarning: nx.nx_pydot.to_pydot depends on the pydot package, which hasknown issues and is not actively maintained.\n",
      "\n",
      "See https://github.com/networkx/networkx/issues/5723\n",
      "  p=nx.drawing.nx_pydot.to_pydot(orgchart)\n"
     ]
    }
   ],
   "source": [
    "p=nx.drawing.nx_pydot.to_pydot(orgchart)\n",
    "p.write_png('orgchart_1.png')"
   ]
  }
 ],
 "metadata": {
  "kernelspec": {
   "display_name": "Python 3",
   "language": "python",
   "name": "python3"
  },
  "language_info": {
   "codemirror_mode": {
    "name": "ipython",
    "version": 3
   },
   "file_extension": ".py",
   "mimetype": "text/x-python",
   "name": "python",
   "nbconvert_exporter": "python",
   "pygments_lexer": "ipython3",
   "version": "3.11.4"
  },
  "orig_nbformat": 4
 },
 "nbformat": 4,
 "nbformat_minor": 2
}
